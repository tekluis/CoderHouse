{
 "cells": [
  {
   "attachments": {},
   "cell_type": "markdown",
   "metadata": {},
   "source": [
    "# DATASET 1 - Alquileres AIRBNB en Europa\n",
    "\n",
    "**Descripción:**\n",
    "Departamentos en alquiler en AIRBNB en Europa, en función de tipo de las características del local.\n",
    "\n",
    "**Variables de interés:**\n",
    "Ciudad, Precio, Tipo, Capacidad, Distancias a puntos de interés, Distancias al metro\n",
    "\n",
    "**Fuente:** \n",
    "https://www.kaggle.com/datasets/dipeshkhemani/airbnb-cleaned-europe-dataset\n",
    "\n",
    "**Link drive:**\n",
    "https://drive.google.com/file/d/1sBXXoA2pLBycIeq-LRajr3pgf6HfTuo0/view?usp=sharing\n",
    "\n",
    "**Link descarga:**\n",
    "https://drive.google.com/uc?id=1sBXXoA2pLBycIeq-LRajr3pgf6HfTuo0"
   ]
  },
  {
   "cell_type": "code",
   "execution_count": null,
   "metadata": {},
   "outputs": [],
   "source": [
    "import pandas as pd\n",
    "import requests\n",
    "from io import StringIO\n",
    "\n",
    "url = f'https://drive.google.com/uc?id=1sBXXoA2pLBycIeq-LRajr3pgf6HfTuo0'\n",
    "response = requests.get(url).text\n",
    "csv_data = StringIO(response)\n",
    "\n",
    "df = pd.read_csv(csv_data)\n",
    "print(\"Cantidad de filas:\", df.shape[0])\n",
    "print(\"Cantidad de columnas:\", df.shape[1])\n",
    "print(\"Primeras 5 filas del dataframe\")\n",
    "df.head()"
   ]
  },
  {
   "attachments": {},
   "cell_type": "markdown",
   "metadata": {},
   "source": [
    "# DATASET 2 - Películas más populares en TMDB\n",
    "\n",
    "**Descripción:** \n",
    "10.000 películas más populares según www.themoviedb.org (TMDB) y sus características.\n",
    "\n",
    "**Variables de interés:**\n",
    "Título, Fecha de lanzamiento, Género, Puntuación, Popularidad, Recaudación.\n",
    "\n",
    "**Fuente:**\n",
    "https://www.kaggle.com/datasets/ursmaheshj/top-10000-popular-movies-tmdb-05-2023\n",
    "\n",
    "**Link drive:**\n",
    "https://drive.google.com/file/d/1Q39wfmys3r_O9zo_OQS_D6nFhst9ml8M/view?usp=sharing\n",
    "\n",
    "**Link descarga:**\n",
    "https://drive.google.com/uc?id=1Q39wfmys3r_O9zo_OQS_D6nFhst9ml8M"
   ]
  },
  {
   "cell_type": "code",
   "execution_count": null,
   "metadata": {},
   "outputs": [],
   "source": [
    "import pandas as pd\n",
    "import requests\n",
    "from io import StringIO\n",
    "\n",
    "url = f'https://drive.google.com/uc?id=1Q39wfmys3r_O9zo_OQS_D6nFhst9ml8M'\n",
    "response = requests.get(url).text\n",
    "csv_data = StringIO(response)\n",
    "\n",
    "df = pd.read_csv(csv_data)\n",
    "print(\"Cantidad de filas:\", df.shape[0])\n",
    "print(\"Cantidad de columnas:\", df.shape[1])\n",
    "print(\"Primeras 5 filas del dataframe\")\n",
    "df.head()"
   ]
  },
  {
   "attachments": {},
   "cell_type": "markdown",
   "metadata": {},
   "source": [
    "# DATASET 3 - Pobreza y desigualdad en el mundo\n",
    "\n",
    "**Descripción:**\n",
    "Pobreza y desigualdad según País a nivel mundial, datos obtenidos de World Bank's Poverty and Inequality Platform (PIP).\n",
    "\n",
    "**Variables de interés:**\n",
    "País, Año, Porcentaje de probeza (headcount_ratio_international_povline), Mediana de ingresos, Promedio de ingresos, Desigualdad (coeficiente de Gini)\n",
    "\n",
    "**Fuente:**\n",
    "https://www.kaggle.com/datasets/utkarshx27/global-poverty-and-inequality-dataset\n",
    "\n",
    "**Link drive:**\n",
    "https://drive.google.com/file/d/1qdpf87A0ChIqOaBb5Cy2XxKZq3rBGWTw/view?usp=sharing\n",
    "\n",
    "**Link descarga:**\n",
    "https://drive.google.com/uc?id=1qdpf87A0ChIqOaBb5Cy2XxKZq3rBGWTw"
   ]
  },
  {
   "cell_type": "code",
   "execution_count": null,
   "metadata": {},
   "outputs": [],
   "source": [
    "import pandas as pd\n",
    "import requests\n",
    "from io import StringIO\n",
    "\n",
    "url = f'https://drive.google.com/uc?id=1qdpf87A0ChIqOaBb5Cy2XxKZq3rBGWTw'\n",
    "response = requests.get(url).text\n",
    "csv_data = StringIO(response)\n",
    "\n",
    "df = pd.read_csv(csv_data)\n",
    "print(\"Cantidad de filas:\", df.shape[0])\n",
    "print(\"Cantidad de columnas:\", df.shape[1])\n",
    "print(\"Primeras 5 filas del dataframe\")\n",
    "df.head()"
   ]
  }
 ],
 "metadata": {
  "kernelspec": {
   "display_name": "Python 3 (ipykernel)",
   "language": "python",
   "name": "python3"
  },
  "language_info": {
   "codemirror_mode": {
    "name": "ipython",
    "version": 3
   },
   "file_extension": ".py",
   "mimetype": "text/x-python",
   "name": "python",
   "nbconvert_exporter": "python",
   "pygments_lexer": "ipython3",
   "version": "3.10.11"
  }
 },
 "nbformat": 4,
 "nbformat_minor": 2
}
